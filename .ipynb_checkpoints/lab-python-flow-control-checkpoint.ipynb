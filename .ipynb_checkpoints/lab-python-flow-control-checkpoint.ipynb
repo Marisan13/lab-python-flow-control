{
 "cells": [
  {
   "cell_type": "markdown",
   "id": "d3bfc191-8885-42ee-b0a0-bbab867c6f9f",
   "metadata": {
    "tags": []
   },
   "source": [
    "# Lab | Flow Control"
   ]
  },
  {
   "cell_type": "markdown",
   "id": "3851fcd1-cf98-4653-9c89-e003b7ec9400",
   "metadata": {},
   "source": [
    "## Exercise: Managing Customer Orders Optimized\n",
    "\n",
    "In the last lab, you were starting an online store that sells various products. To ensure smooth operations, you developed a program that manages customer orders and inventory.\n",
    "\n",
    "You did so without using flow control. Let's go a step further and improve this code.\n",
    "\n",
    "Follow the steps below to complete the exercise:\n",
    "\n",
    "1. Look at your code from the lab data structures, and improve repeated code with loops.\n",
    "\n",
    "2. Instead of asking the user to input the name of three products that a customer wants to order, do the following:\n",
    "    \n",
    "    a. Prompt the user to enter the name of a product that a customer wants to order.\n",
    "    \n",
    "    b. Add the product name to the \"customer_orders\" set.\n",
    "    \n",
    "    c. Ask the user if they want to add another product (yes/no).\n",
    "    \n",
    "    d. Continue the loop until the user does not want to add another product.\n",
    "\n",
    "3. Instead of updating the inventory by subtracting 1 from the quantity of each product, only do it for  the products that were ordered (those in \"customer_orders\")."
   ]
  },
  {
   "cell_type": "code",
   "execution_count": 1,
   "id": "b4d47985",
   "metadata": {},
   "outputs": [
    {
     "name": "stdout",
     "output_type": "stream",
     "text": [
      "Please input the available quantity of t-shirt: 1\n",
      "Please input the available quantity of mug: 2\n",
      "Please input the available quantity of hat: 3\n",
      "Please input the available quantity of book: 4\n",
      "Please input the available quantity of keychain: 5\n",
      "{'t-shirt': 1, 'mug': 2, 'hat': 3, 'book': 4, 'keychain': 5}\n",
      "\n",
      "\n",
      "Please input the name of a product you want to order: mug\n",
      "Do you want to add another product? (yes/no): yes\n",
      "Please input the name of a product you want to order: book\n",
      "Do you want to add another product? (yes/no): no\n",
      "{'book', 'mug'}\n",
      "\n",
      "\n",
      "Order Statistics:\n",
      "Total Products Ordered: 2\n",
      "Percentage of Products Ordered: 13%\n",
      "\n",
      "\n",
      "Quantity of t-shirt in the inventory: 1\n",
      "Quantity of mug in the inventory: 1\n",
      "Quantity of hat in the inventory: 3\n",
      "Quantity of book in the inventory: 3\n",
      "Quantity of keychain in the inventory: 5\n"
     ]
    }
   ],
   "source": [
    "products = [\"t-shirt\", \"mug\", \"hat\", \"book\", \"keychain\"]\n",
    "\n",
    "inventory = {}\n",
    "\n",
    "for i in products:\n",
    "    inventory[i] = int(input(f\"Please input the available quantity of {i}: \"))\n",
    "    \n",
    "print(inventory)\n",
    "print(\"\\n\")\n",
    "\n",
    "customer_orders = set()\n",
    "\n",
    "products_str = \", \".join([str(i) for i in products])\n",
    "\n",
    "answer = \"yes\"\n",
    "\n",
    "while answer == \"yes\":\n",
    "    customer_orders.add(input(\"Please input the name of a product you want to order: \"))\n",
    "    answer = input(\"Do you want to add another product? (yes/no): \")\n",
    "\n",
    "print(customer_orders)\n",
    "print(\"\\n\")\n",
    "\n",
    "ttl_order = len(customer_orders)\n",
    "ttl_inventory = 0\n",
    "\n",
    "for value in inventory.values():\n",
    "    ttl_inventory += int(value)\n",
    "\n",
    "percentage = round((ttl_order / ttl_inventory) * 100)\n",
    "\n",
    "order_status = (ttl_order, percentage)\n",
    "\n",
    "print(\"Order Statistics:\")\n",
    "print(f\"Total Products Ordered: {order_status[0]}\")\n",
    "print(f\"Percentage of Products Ordered: {order_status[1]}%\") \n",
    "print(\"\\n\")\n",
    "\n",
    "for key in inventory.keys():\n",
    "    if key in customer_orders:\n",
    "        inventory[key] -= 1\n",
    "\n",
    "for key, value in inventory.items():\n",
    "    print(f\"Quantity of {key} in the inventory: {value}\")"
   ]
  },
  {
   "cell_type": "code",
   "execution_count": null,
   "id": "55d85456",
   "metadata": {},
   "outputs": [],
   "source": []
  }
 ],
 "metadata": {
  "kernelspec": {
   "display_name": "Python 3 (ipykernel)",
   "language": "python",
   "name": "python3"
  },
  "language_info": {
   "codemirror_mode": {
    "name": "ipython",
    "version": 3
   },
   "file_extension": ".py",
   "mimetype": "text/x-python",
   "name": "python",
   "nbconvert_exporter": "python",
   "pygments_lexer": "ipython3",
   "version": "3.11.3"
  }
 },
 "nbformat": 4,
 "nbformat_minor": 5
}
